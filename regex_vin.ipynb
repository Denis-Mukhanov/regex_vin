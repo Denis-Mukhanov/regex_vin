{
 "cells": [
  {
   "cell_type": "markdown",
   "id": "66fb12b3",
   "metadata": {},
   "source": [
    "[![image-3.png](https://i.postimg.cc/DwGX681Q/image-3.png)](https://postimg.cc/QFXCxN4V)"
   ]
  },
  {
   "cell_type": "markdown",
   "id": "0a21df04",
   "metadata": {},
   "source": [
    "<div style=\"padding:20px 30px 30px; \n",
    "            color:#004346;\n",
    "            font-size:30px;\n",
    "            display:fill;\n",
    "            text-align:center;\n",
    "            border-radius:20px;\n",
    "            border: 5px double;\n",
    "            border-color:#201E20;\n",
    "            background-color: #E8F1F2;\n",
    "            overflow:hidden;\n",
    "            font-weight:400\"> \n",
    "<p style=\"font-weight: bold; text-align: center;\">Определение стоимости автомобиля по VIN-коду</p>\n",
    "\n",
    "\n",
    "</div>"
   ]
  },
  {
   "cell_type": "markdown",
   "id": "570b3ee8",
   "metadata": {},
   "source": [
    "<div style=\"padding:0px 40px 30px; \n",
    "            color:#004346;\n",
    "            font-size:110%;\n",
    "            display:fill;\n",
    "            border-radius:20px;\n",
    "            border: 5px double;\n",
    "            border-color:#201E20;\n",
    "            background-color: #E8F1F2;\n",
    "            overflow:hidden;\n",
    "            font-weight:450;\"> \n",
    "\n",
    "    \n",
    "\n",
    "__Постановка задачи:__ используя регулярные выражения в качестве инструмента первичной обработки и получения данных, построить модель для отределения стоимости осмомобилей марки Ford.\n",
    "    \n",
    "__Описание данных:__ текстовый документ в формате `.txt` c VIN-кодами североамериканских машин\n",
    "    \n",
    "\n",
    "__Оценка результата:__ Root Mean Squared Error, RMSE\n",
    "</div>    "
   ]
  },
  {
   "cell_type": "markdown",
   "id": "2041872f",
   "metadata": {},
   "source": [
    "<div style=\"padding:0px 20px 10px; \n",
    "            color:#004346;\n",
    "            font-size:15px;\n",
    "            display:fill;\n",
    "            text-align:center;\n",
    "            border-radius:20px;\n",
    "            border: 5px double;\n",
    "            border-color:#201E20;\n",
    "            background-color: #E8F1F2;\n",
    "            overflow:hidden;\n",
    "            font-weight:400\"> \n",
    "\n",
    "# Используемые библиотеки\n",
    "\n",
    "</div>"
   ]
  },
  {
   "cell_type": "code",
   "execution_count": 1,
   "id": "a364fbce",
   "metadata": {},
   "outputs": [],
   "source": [
    "import os\n",
    "import re\n",
    "import numpy as np\n",
    "import pandas as pd\n",
    "import matplotlib.pyplot as plt\n",
    "\n",
    "from sklearn.model_selection import train_test_split\n",
    "\n",
    "from sklearn.metrics import mean_squared_error\n",
    "\n",
    "from sklearn.model_selection import cross_val_score\n",
    "from sklearn.linear_model import Ridge\n",
    "from sklearn.preprocessing import StandardScaler, OneHotEncoder\n",
    "from sklearn.compose import ColumnTransformer\n",
    "from sklearn.pipeline import Pipeline\n",
    "from math import sqrt\n",
    "import warnings\n",
    "\n",
    "from catboost import CatBoostRegressor, Pool, cv\n",
    "\n",
    "# константы\n",
    "RANDOM_SEED = 42\n",
    "BASE_PATH = 'data/' # корневая директория\n",
    "\n",
    "# настройки блокнота\n",
    "warnings.filterwarnings(\"ignore\", category=FutureWarning, module=\"sklearn.utils.validation\")"
   ]
  },
  {
   "cell_type": "markdown",
   "id": "ba7bc628",
   "metadata": {},
   "source": [
    "<div style=\"padding:0px 20px 10px; \n",
    "            color:#004346;\n",
    "            font-size:15px;\n",
    "            display:fill;\n",
    "            text-align:center;\n",
    "            border-radius:20px;\n",
    "            border: 5px double;\n",
    "            border-color:#201E20;\n",
    "            background-color: #E8F1F2;\n",
    "            overflow:hidden;\n",
    "            font-weight:400\"> \n",
    "\n",
    "# Загрузка и общая информация данных\n",
    "\n",
    "</div>"
   ]
  },
  {
   "cell_type": "code",
   "execution_count": 2,
   "id": "747b1ead",
   "metadata": {},
   "outputs": [
    {
     "data": {
      "text/plain": [
       "'[2FMDK3JC4BBA41556:12500]мой[3FA6P0H75ER208976:14500]дядя [3FAHP08Z17R268380:1300][1FMCU0GX3DUC59421:15200]самых [1FAHP2E89DG119368:11600] верных[1FM5K8D82DGA16143:26400][1FTFW1CFXCFC23663:14000][2FMD'"
      ]
     },
     "metadata": {},
     "output_type": "display_data"
    }
   ],
   "source": [
    "with open(os.path.join(BASE_PATH, 'vin_ford_train.txt')) as t:\n",
    "    txt = t.read()\n",
    "    \n",
    "display(txt[:200])"
   ]
  },
  {
   "cell_type": "markdown",
   "id": "7c9c99dd",
   "metadata": {},
   "source": [
    "__Структура данных:__ каждая запись в квадратных скобках представляет собой 17-ти значний vin код, двоеточие, после которого укажана цена. Также известно что данные автомобили из северной америки и произведены компанией Ford."
   ]
  },
  {
   "cell_type": "markdown",
   "id": "4daca043",
   "metadata": {},
   "source": [
    "__Структура vin-кода:__"
   ]
  },
  {
   "cell_type": "markdown",
   "id": "738a878a",
   "metadata": {},
   "source": [
    "[![2024-04-20-17-43-28.jpg](https://i.postimg.cc/g203mWHR/2024-04-20-17-43-28.jpg)](https://postimg.cc/XpTrkth7)"
   ]
  },
  {
   "cell_type": "markdown",
   "id": "6c549e52",
   "metadata": {},
   "source": [
    "__Расшифровка wmi-кода автомобилей Ford:__"
   ]
  },
  {
   "cell_type": "code",
   "execution_count": 3,
   "id": "9626e327",
   "metadata": {},
   "outputs": [],
   "source": [
    "ford_wmi = {\n",
    "    'AFA': 'Ford Motor Company of Southern Africa & Samcor',\n",
    "    'AFB': 'Mazda BT-50 made by Ford Motor Company of Southern Africa',\n",
    "    'JC0': 'Ford brand cars made by Mazda',\n",
    "    'JC2': 'Ford Courier made by Mazda',\n",
    "    'KNJ': 'Ford Festiva & Aspire made by Kia',\n",
    "    'LJX': 'JMC Ford',\n",
    "    'LVS': 'Changan Ford & Changan Ford Mazda',\n",
    "    'MAJ': 'Ford India',\n",
    "    'MNB': 'Ford Thailand',\n",
    "    'NM0': 'Ford Otosan',\n",
    "    'PE1': 'Ford Motor Company Philippines',\n",
    "    'PE3': 'Mazda Philippines made by Ford Motor Company Philippines',\n",
    "    'PR8': 'Ford',\n",
    "    'LFA': 'Ford Lio Ho Motor Co Ltd. old designation',\n",
    "    'RHA': 'Ford Lio Ho Motor Co Ltd. new designation',\n",
    "    'RL0': 'Ford Vietnam',\n",
    "    'SBC': 'Iveco Ford Truck',\n",
    "    'SFA': 'Ford UK',\n",
    "    'VSK': 'Nissan Motor Iberica SA, Nissan passenger car/MPV/van/SUV/pickup & Ford Maverick 1993–1999',\n",
    "    'VS6': 'Ford Spain',\n",
    "    'WF0': 'Ford Germany',\n",
    "    'X9F': 'Ford Motor Company ZAO',\n",
    "    'Z6F': 'Ford Sollers (Russia)',\n",
    "    '1FA': 'Ford car',\n",
    "    '1FB': 'Ford \"bus\" (van with more than 3 rows of seats)',\n",
    "    '1FC': 'Ford stripped chassis made by Ford',\n",
    "    '1FD': 'Ford incomplete vehicle',\n",
    "    '1FM': 'Ford MPV/SUV',\n",
    "    '1FT': 'Ford truck',\n",
    "    '1F1': 'Ford SUV - Limousine (through 2009)',\n",
    "    '1F6': 'Ford stripped chassis made by Detroit Chassis LLC',\n",
    "    '1ZV': 'Ford made by AutoAlliance International',\n",
    "    '2FA': 'Ford car',\n",
    "    '2FM': 'Ford MPV/SUV',\n",
    "    '2FT': 'Ford truck',\n",
    "    '3FA': 'Ford car',\n",
    "    '3FC': 'Ford stripped chassis made by Ford & IMMSA',\n",
    "    '3FE': 'Ford Mexico',\n",
    "    '3FM': 'Ford MPV/SUV',\n",
    "    '3FN': 'Ford F-650/F-750 made by Blue Diamond Truck Co. (truck)',\n",
    "    '3FR': 'Ford F-650/F-750 made by Blue Diamond Truck Co. (incomplete vehicle)',\n",
    "    '3FT': 'Ford truck',\n",
    "    '4F2': 'Mazda SUV made by Ford',\n",
    "    '4F4': 'Mazda truck made by Ford',\n",
    "    '4N2': 'Nissan Quest made by Ford',\n",
    "    '5LD': 'Ford & Lincoln incomplete vehicle – limousine (2010–2014)',\n",
    "    '6F1': 'Ford',\n",
    "    '6FP': 'Ford Australia',\n",
    "    '7A5': 'Ford New Zealand',\n",
    "    '8AF': 'Ford Argentina',\n",
    "    '9BF': 'Ford Brazil',\n",
    "}"
   ]
  },
  {
   "cell_type": "markdown",
   "id": "1da3a101",
   "metadata": {},
   "source": [
    "##  Разрешенные символы\n",
    "\n",
    "- в коде не используются следующие символы: I, O, Q\n",
    "- при кодировке года неиспользуемые символы: I, O, Q, U и Z\n",
    "- последние три символа являются цифрами"
   ]
  },
  {
   "cell_type": "code",
   "execution_count": 4,
   "id": "9fa735a8",
   "metadata": {},
   "outputs": [
    {
     "name": "stdout",
     "output_type": "stream",
     "text": [
      "ABCDEFGHJKLMNPRSTUVWXYZ1234567890\n"
     ]
    }
   ],
   "source": [
    "ALLOWED_CHARS = [chr(x) for x in range(ord('A'), ord('Z')+1) if chr(x) not in ('I', 'O', 'Q')]\n",
    "ALLOWED_CHARS_NUM = [chr(x) for x in range(ord('A'), ord('Z')+1) if chr(x) not in ('I', 'O', 'Q', 'U', 'Z')]\n",
    "ALLOWED_NUMS = [str(x) for x in range(1,10)] + ['0']\n",
    "\n",
    "allowed = ''.join(ALLOWED_CHARS+ALLOWED_NUMS)\n",
    "allowed_num = ''.join(ALLOWED_CHARS_NUM+ALLOWED_NUMS)\n",
    "print(allowed)"
   ]
  },
  {
   "cell_type": "markdown",
   "id": "bde4c72b",
   "metadata": {},
   "source": [
    "## Северо-Американский формат VIN\n",
    "\n",
    "Создадим регелярное выражение для получения vin-кода и его отдельных частей, а так же цены автомобилей, учитывая разрешенные символы."
   ]
  },
  {
   "cell_type": "code",
   "execution_count": 5,
   "id": "eb52588f",
   "metadata": {},
   "outputs": [],
   "source": [
    "wmi = f'(?P<wmi>[{allowed}]{{3}})'         # 1-3\n",
    "brake = f'(?P<brake>[{allowed}])'          # 4\n",
    "model = f'(?P<model>[{allowed}]{{3}})'     # 5-7\n",
    "engine = f'(?P<engine>[{allowed}])'        # 8\n",
    "check = f'(?P<check>[{allowed}])'          # 9\n",
    "year = f'(?P<year>[{allowed_num}])'        # 10\n",
    "plant = f'(?P<plant>[{allowed}])'          # 11\n",
    "vis = f'(?P<vis>[{allowed}]{{3}}\\\\d{{3}})' # 12-17\n",
    "\n",
    "price = f'(?P<price>\\d+)'                  # цена\n",
    "\n",
    "full = f'\\\\b{wmi}{brake}{model}{engine}{check}{year}{plant}{vis}:{price}\\\\b'\n",
    "data_re = re.compile(full)"
   ]
  },
  {
   "cell_type": "code",
   "execution_count": 6,
   "id": "69e78951",
   "metadata": {},
   "outputs": [
    {
     "data": {
      "text/plain": [
       "[('2FM', 'D', 'K3J', 'C', '4', 'B', 'B', 'A41556', '12500'),\n",
       " ('3FA', '6', 'P0H', '7', '5', 'E', 'R', '208976', '14500'),\n",
       " ('3FA', 'H', 'P08', 'Z', '1', '7', 'R', '268380', '1300'),\n",
       " ('1FM', 'C', 'U0G', 'X', '3', 'D', 'U', 'C59421', '15200'),\n",
       " ('1FA', 'H', 'P2E', '8', '9', 'D', 'G', '119368', '11600'),\n",
       " ('1FM', '5', 'K8D', '8', '2', 'D', 'G', 'A16143', '26400'),\n",
       " ('1FT', 'F', 'W1C', 'F', 'X', 'C', 'F', 'C23663', '14000')]"
      ]
     },
     "execution_count": 6,
     "metadata": {},
     "output_type": "execute_result"
    }
   ],
   "source": [
    "data_re.findall(txt[:200])"
   ]
  },
  {
   "cell_type": "markdown",
   "id": "2dcea7be",
   "metadata": {},
   "source": [
    "##  Получение набора данных"
   ]
  },
  {
   "cell_type": "code",
   "execution_count": 7,
   "id": "bd166720",
   "metadata": {},
   "outputs": [],
   "source": [
    "def decode_txt(s: str) -> pd.DataFrame :\n",
    "    return pd.DataFrame([x.groupdict() for x in data_re.finditer(s)])"
   ]
  },
  {
   "cell_type": "code",
   "execution_count": 9,
   "id": "a80f2fb3",
   "metadata": {},
   "outputs": [
    {
     "data": {
      "text/html": [
       "<div>\n",
       "<style scoped>\n",
       "    .dataframe tbody tr th:only-of-type {\n",
       "        vertical-align: middle;\n",
       "    }\n",
       "\n",
       "    .dataframe tbody tr th {\n",
       "        vertical-align: top;\n",
       "    }\n",
       "\n",
       "    .dataframe thead th {\n",
       "        text-align: right;\n",
       "    }\n",
       "</style>\n",
       "<table border=\"1\" class=\"dataframe\">\n",
       "  <thead>\n",
       "    <tr style=\"text-align: right;\">\n",
       "      <th></th>\n",
       "      <th>wmi</th>\n",
       "      <th>brake</th>\n",
       "      <th>model</th>\n",
       "      <th>engine</th>\n",
       "      <th>check</th>\n",
       "      <th>year</th>\n",
       "      <th>plant</th>\n",
       "      <th>vis</th>\n",
       "      <th>price</th>\n",
       "    </tr>\n",
       "  </thead>\n",
       "  <tbody>\n",
       "    <tr>\n",
       "      <th>0</th>\n",
       "      <td>2FM</td>\n",
       "      <td>D</td>\n",
       "      <td>K3J</td>\n",
       "      <td>C</td>\n",
       "      <td>4</td>\n",
       "      <td>B</td>\n",
       "      <td>B</td>\n",
       "      <td>A41556</td>\n",
       "      <td>12500</td>\n",
       "    </tr>\n",
       "    <tr>\n",
       "      <th>1</th>\n",
       "      <td>3FA</td>\n",
       "      <td>6</td>\n",
       "      <td>P0H</td>\n",
       "      <td>7</td>\n",
       "      <td>5</td>\n",
       "      <td>E</td>\n",
       "      <td>R</td>\n",
       "      <td>208976</td>\n",
       "      <td>14500</td>\n",
       "    </tr>\n",
       "    <tr>\n",
       "      <th>2</th>\n",
       "      <td>3FA</td>\n",
       "      <td>H</td>\n",
       "      <td>P08</td>\n",
       "      <td>Z</td>\n",
       "      <td>1</td>\n",
       "      <td>7</td>\n",
       "      <td>R</td>\n",
       "      <td>268380</td>\n",
       "      <td>1300</td>\n",
       "    </tr>\n",
       "    <tr>\n",
       "      <th>3</th>\n",
       "      <td>1FM</td>\n",
       "      <td>C</td>\n",
       "      <td>U0G</td>\n",
       "      <td>X</td>\n",
       "      <td>3</td>\n",
       "      <td>D</td>\n",
       "      <td>U</td>\n",
       "      <td>C59421</td>\n",
       "      <td>15200</td>\n",
       "    </tr>\n",
       "    <tr>\n",
       "      <th>4</th>\n",
       "      <td>1FA</td>\n",
       "      <td>H</td>\n",
       "      <td>P2E</td>\n",
       "      <td>8</td>\n",
       "      <td>9</td>\n",
       "      <td>D</td>\n",
       "      <td>G</td>\n",
       "      <td>119368</td>\n",
       "      <td>11600</td>\n",
       "    </tr>\n",
       "  </tbody>\n",
       "</table>\n",
       "</div>"
      ],
      "text/plain": [
       "   wmi brake model engine check year plant     vis  price\n",
       "0  2FM     D   K3J      C     4    B     B  A41556  12500\n",
       "1  3FA     6   P0H      7     5    E     R  208976  14500\n",
       "2  3FA     H   P08      Z     1    7     R  268380   1300\n",
       "3  1FM     C   U0G      X     3    D     U  C59421  15200\n",
       "4  1FA     H   P2E      8     9    D     G  119368  11600"
      ]
     },
     "metadata": {},
     "output_type": "display_data"
    }
   ],
   "source": [
    "df = decode_txt(txt)\n",
    "display(df.head())"
   ]
  },
  {
   "cell_type": "code",
   "execution_count": 10,
   "id": "c7660e04",
   "metadata": {},
   "outputs": [
    {
     "name": "stdout",
     "output_type": "stream",
     "text": [
      "<class 'pandas.core.frame.DataFrame'>\n",
      "RangeIndex: 71884 entries, 0 to 71883\n",
      "Data columns (total 9 columns):\n",
      " #   Column  Non-Null Count  Dtype \n",
      "---  ------  --------------  ----- \n",
      " 0   wmi     71884 non-null  object\n",
      " 1   brake   71884 non-null  object\n",
      " 2   model   71884 non-null  object\n",
      " 3   engine  71884 non-null  object\n",
      " 4   check   71884 non-null  object\n",
      " 5   year    71884 non-null  object\n",
      " 6   plant   71884 non-null  object\n",
      " 7   vis     71884 non-null  object\n",
      " 8   price   71884 non-null  object\n",
      "dtypes: object(9)\n",
      "memory usage: 4.9+ MB\n"
     ]
    }
   ],
   "source": [
    "# общая онформакци о данных\n",
    "df.info()"
   ]
  },
  {
   "cell_type": "markdown",
   "id": "598951da",
   "metadata": {},
   "source": [
    "> В данных отсутствуют пропуски.\n",
    "\n",
    "> Необходимо проверить:\n",
    "> - все ли wmi-коды относятся к автомобилям Ford\n",
    "> - что признак `price` содержит только числа"
   ]
  },
  {
   "cell_type": "markdown",
   "id": "3ac73c5f",
   "metadata": {},
   "source": [
    "### проверка wmi\n",
    "\n",
    "проверим все ли полученные wmi-коды принадлежат автомобилям марки Ford"
   ]
  },
  {
   "cell_type": "code",
   "execution_count": 11,
   "id": "cba41987",
   "metadata": {},
   "outputs": [
    {
     "name": "stdout",
     "output_type": "stream",
     "text": [
      "Все полученные wmi-кода принадлежат автомобилям марки FORD\n"
     ]
    }
   ],
   "source": [
    "if all(wmi in ford_wmi.keys() for wmi in df['wmi'].values):\n",
    "    print('Все полученные wmi-кода принадлежат автомобилям марки FORD')\n",
    "else:\n",
    "    print('Некоторые wmi-коды не принадлежат автомобилям марки FORD')"
   ]
  },
  {
   "cell_type": "markdown",
   "id": "f45c0cc8",
   "metadata": {},
   "source": [
    "### проверка признака `price`"
   ]
  },
  {
   "cell_type": "code",
   "execution_count": 12,
   "id": "f367b007",
   "metadata": {},
   "outputs": [
    {
     "name": "stdout",
     "output_type": "stream",
     "text": [
      "Все цены указаны верно\n",
      "Тип данных признака `price` изменен: `object`->`int`\n"
     ]
    }
   ],
   "source": [
    "if all(price.isalnum() for price in df['price'].values):\n",
    "    df['price'] = df['price'].astype(int)\n",
    "    print('Все цены указаны верно')\n",
    "    if df['price'].dtype == 'int64': \n",
    "        print('Тип данных признака `price` изменен: `object`->`int`')\n",
    "else: \n",
    "    print('Некоторые цены указаны некорректно')"
   ]
  },
  {
   "cell_type": "code",
   "execution_count": 13,
   "id": "7c94fa66",
   "metadata": {},
   "outputs": [
    {
     "data": {
      "image/png": "[encoded data removed]",
      "text/plain": [
       "<Figure size 640x480 with 1 Axes>"
      ]
     },
     "metadata": {},
     "output_type": "display_data"
    }
   ],
   "source": [
    "# гистограмма распределения цен\n",
    "plt.hist(df['price'], bins=20, color='teal', edgecolor='black', linewidth=0.3)\n",
    "plt.xlabel('Цена')\n",
    "plt.ylabel('Частота')\n",
    "plt.title('Распределение цен автомобилей')\n",
    "plt.grid(True)\n",
    "plt.show()"
   ]
  },
  {
   "cell_type": "markdown",
   "id": "2107d337",
   "metadata": {},
   "source": [
    "> Гистограмма показывает распределение цен автомобилей. Она близка к нормальному, но имеет дополнительный пик в начале, что указывает на наличие дополнительного скопления наблюдений с более низкими ценами. Это не должно сильно повлиять на качество обобщающей способности модели."
   ]
  },
  {
   "cell_type": "markdown",
   "id": "e0714303",
   "metadata": {},
   "source": [
    "<div style=\"padding:0px 20px 10px; \n",
    "            color:#004346;\n",
    "            font-size:15px;\n",
    "            display:fill;\n",
    "            text-align:center;\n",
    "            border-radius:20px;\n",
    "            border: 5px double;\n",
    "            border-color:#201E20;\n",
    "            background-color: #E8F1F2;\n",
    "            overflow:hidden;\n",
    "            font-weight:400\"> \n",
    "\n",
    "# Обучение модели\n",
    "\n",
    "</div>\n",
    "\n",
    "## Выделение выборок для обучения и тестирования\n",
    "\n",
    "Разделим датасет, в соотношении 80/20"
   ]
  },
  {
   "cell_type": "code",
   "execution_count": 14,
   "id": "41f96253",
   "metadata": {},
   "outputs": [],
   "source": [
    "df_train, df_test= train_test_split(df, test_size=.2, random_state=RANDOM_SEED)"
   ]
  },
  {
   "cell_type": "code",
   "execution_count": 15,
   "id": "7ca84a7e",
   "metadata": {},
   "outputs": [
    {
     "name": "stdout",
     "output_type": "stream",
     "text": [
      "Размер обучающего набора: 80%\n",
      "Размер тестового набора: 20%\n"
     ]
    }
   ],
   "source": [
    "# размер наборов данных\n",
    "print(f'Размер обучающего набора: {len(df_train)/len(df):.0%}')\n",
    "print(f'Размер тестового набора: {len(df_test)/len(df):.0%}')"
   ]
  },
  {
   "cell_type": "markdown",
   "id": "35616f4a",
   "metadata": {},
   "source": [
    "## Baseline model\n",
    "\n",
    "Используем медианное значение для предсказания и рассчета RMSE"
   ]
  },
  {
   "cell_type": "code",
   "execution_count": 16,
   "id": "82b0556b",
   "metadata": {},
   "outputs": [
    {
     "name": "stdout",
     "output_type": "stream",
     "text": [
      "Среднеквадратичная ошибка (RMSE) для константной модели: 7862.33\n"
     ]
    }
   ],
   "source": [
    "median_price = df_train['price'].median() # медиана\n",
    "median_predictions = np.full_like(df_train['price'], fill_value=median_price) # предсказания\n",
    "rmse_median = sqrt(mean_squared_error(df_train['price'], median_predictions)) # rmse\n",
    "\n",
    "# результат\n",
    "print(f'Среднеквадратичная ошибка (RMSE) для константной модели: {rmse_median:.2f}')"
   ]
  },
  {
   "cell_type": "markdown",
   "id": "9952eccb",
   "metadata": {},
   "source": [
    "> В среднем базовая модель (медианное значение) ошибается в ценах на 7862.33"
   ]
  },
  {
   "cell_type": "markdown",
   "id": "f04ebb73",
   "metadata": {},
   "source": [
    "## Ridge model\n",
    "\n",
    "В качестве линейной модели используем Ridge:\n",
    "- Закодируем категориальные признаки с помощью метода кодирования One-Hot (признак `check` в данном случае так же следует рассматривать как категориальный признак)\n",
    "- Используем кросс-валидацию для оценки производительности модели на обучающих данных, с помощью корня из среднеквадратичной ошибки (Root Mean Squared Error, RMSE)."
   ]
  },
  {
   "cell_type": "code",
   "execution_count": 17,
   "id": "714507df",
   "metadata": {},
   "outputs": [],
   "source": [
    "# категориальные признаки\n",
    "categorical_features = [col for col in df_train.columns if col != 'price'] # категориальные признаки\n",
    "categorical_transformer = OneHotEncoder(handle_unknown='ignore') # обработчик категориальных признаков\n",
    "model = Ridge() # модель"
   ]
  },
  {
   "cell_type": "code",
   "execution_count": 18,
   "id": "1a1a05c3",
   "metadata": {},
   "outputs": [],
   "source": [
    "preprocessor = ColumnTransformer(\n",
    "    transformers=[\n",
    "        ('cat', categorical_transformer, categorical_features)\n",
    "    ])\n",
    "\n",
    "# конвейер с предобработкой данных и моделью\n",
    "pipeline = Pipeline(steps=[('preprocessor', preprocessor),\n",
    "                           ('model', model)])"
   ]
  },
  {
   "cell_type": "code",
   "execution_count": 19,
   "id": "a7505c62",
   "metadata": {
    "scrolled": true
   },
   "outputs": [
    {
     "name": "stdout",
     "output_type": "stream",
     "text": [
      "Средняя ошибка (RMSE) модели: 2900.05\n"
     ]
    }
   ],
   "source": [
    "# оценка модели\n",
    "scores = cross_val_score(pipeline, \n",
    "                         df_train[categorical_features],\n",
    "                         df_train['price'],\n",
    "                         cv=5, \n",
    "                         scoring='neg_mean_squared_error')\n",
    "\n",
    "print(f'Среднеквадратичная ошибка (RMSE) модели: {sqrt(-scores.mean()):.2f}')"
   ]
  },
  {
   "cell_type": "markdown",
   "id": "2dc064b8",
   "metadata": {},
   "source": [
    "> В среднем линейния модель (Ridge) ошибается в ценах на 2900.05"
   ]
  },
  {
   "cell_type": "markdown",
   "id": "7d5dd55a",
   "metadata": {},
   "source": [
    "## CatBoost model\n",
    "\n",
    "Сравним базовую модель, с моделью градиентного бустинга."
   ]
  },
  {
   "cell_type": "code",
   "execution_count": 28,
   "id": "9c8879a4",
   "metadata": {},
   "outputs": [],
   "source": [
    "# данные\n",
    "train_pool = Pool(data=df_train.drop(columns=['price']),\n",
    "                 label=df_train['price'], \n",
    "                 cat_features=categorical_features)\n",
    "\n",
    "test_pool = Pool(data=df_test.drop(columns=['price']),\n",
    "                 cat_features=categorical_features)"
   ]
  },
  {
   "cell_type": "code",
   "execution_count": 21,
   "id": "e39843c7",
   "metadata": {},
   "outputs": [],
   "source": [
    "# параметры модел\n",
    "params = {\n",
    "    'learning_rate': 0.1,\n",
    "    'loss_function': 'RMSE'\n",
    "}\n",
    "\n",
    "model = CatBoostRegressor(**params)"
   ]
  },
  {
   "cell_type": "code",
   "execution_count": 29,
   "id": "97809f4b",
   "metadata": {},
   "outputs": [
    {
     "name": "stdout",
     "output_type": "stream",
     "text": [
      "Training on fold [0/5]\n",
      "\n",
      "bestTest = 2833.580937\n",
      "bestIteration = 985\n",
      "\n",
      "Training on fold [1/5]\n",
      "\n",
      "bestTest = 2758.710218\n",
      "bestIteration = 959\n",
      "\n",
      "Training on fold [2/5]\n",
      "\n",
      "bestTest = 2781.924517\n",
      "bestIteration = 924\n",
      "\n",
      "Training on fold [3/5]\n",
      "\n",
      "bestTest = 2804.126151\n",
      "bestIteration = 996\n",
      "\n",
      "Training on fold [4/5]\n",
      "\n",
      "bestTest = 2785.807056\n",
      "bestIteration = 995\n",
      "\n",
      "Среднее значение RMSE по кросс-валидации: 2918.22\n"
     ]
    }
   ],
   "source": [
    "# оценка модели\n",
    "cv_data = cv(pool=train_pool,\n",
    "             params=params,\n",
    "             fold_count=5,\n",
    "             shuffle=True,\n",
    "             partition_random_seed=42,\n",
    "             verbose=False)\n",
    "\n",
    "rmse_mean = cv_data['test-RMSE-mean'].mean()\n",
    "\n",
    "# среднее значение RMSE\n",
    "print(f'Среднеквадратичная ошибка RMSE по кросс-валидации: {rmse_mean:.2f}')"
   ]
  },
  {
   "cell_type": "markdown",
   "id": "973e8396",
   "metadata": {},
   "source": [
    "> В среднем модель градиентного бустинга (CatBoost) ошибается в ценах на 2918.22"
   ]
  },
  {
   "cell_type": "markdown",
   "id": "50562d3c",
   "metadata": {},
   "source": [
    "## Сводная таблица качества моделей"
   ]
  },
  {
   "cell_type": "code",
   "execution_count": 217,
   "id": "a84a79ab",
   "metadata": {},
   "outputs": [
    {
     "data": {
      "text/html": [
       "<div>\n",
       "<style scoped>\n",
       "    .dataframe tbody tr th:only-of-type {\n",
       "        vertical-align: middle;\n",
       "    }\n",
       "\n",
       "    .dataframe tbody tr th {\n",
       "        vertical-align: top;\n",
       "    }\n",
       "\n",
       "    .dataframe thead th {\n",
       "        text-align: right;\n",
       "    }\n",
       "</style>\n",
       "<table border=\"1\" class=\"dataframe\">\n",
       "  <thead>\n",
       "    <tr style=\"text-align: right;\">\n",
       "      <th></th>\n",
       "      <th>Model</th>\n",
       "      <th>RMSE</th>\n",
       "    </tr>\n",
       "  </thead>\n",
       "  <tbody>\n",
       "    <tr>\n",
       "      <th>0</th>\n",
       "      <td>Baseline</td>\n",
       "      <td>7862.33</td>\n",
       "    </tr>\n",
       "    <tr>\n",
       "      <th>1</th>\n",
       "      <td>Ridge</td>\n",
       "      <td>2900.05</td>\n",
       "    </tr>\n",
       "    <tr>\n",
       "      <th>2</th>\n",
       "      <td>CatBoost</td>\n",
       "      <td>2918.22</td>\n",
       "    </tr>\n",
       "  </tbody>\n",
       "</table>\n",
       "</div>"
      ],
      "text/plain": [
       "      Model     RMSE\n",
       "0  Baseline  7862.33\n",
       "1     Ridge  2900.05\n",
       "2  CatBoost  2918.22"
      ]
     },
     "metadata": {},
     "output_type": "display_data"
    }
   ],
   "source": [
    "data = {\n",
    "    'Model': ['Baseline', 'Ridge', 'CatBoost'],\n",
    "    'RMSE': [7862.33, 2900.05, 2918.22]\n",
    "    \n",
    "}\n",
    "display(pd.DataFrame(data))"
   ]
  },
  {
   "cell_type": "markdown",
   "id": "e1bc6e3d",
   "metadata": {},
   "source": [
    "> Результаты показывают, что как линейная модель (Ridge), так и градиентный бустинг (CatBoost) показывают схожий результат по среднеквадратичной ошибке (RMSE), который значительно превышает ошибку простой константной модели, всегда предсказывающей медиану целевой переменной."
   ]
  },
  {
   "cell_type": "markdown",
   "id": "f1f29cea",
   "metadata": {},
   "source": [
    "## Итоговая модель"
   ]
  },
  {
   "cell_type": "code",
   "execution_count": 30,
   "id": "2665f235",
   "metadata": {},
   "outputs": [
    {
     "name": "stdout",
     "output_type": "stream",
     "text": [
      "0:\tlearn: 7239.5321262\ttotal: 14.3ms\tremaining: 14.3s\n",
      "500:\tlearn: 2759.3038717\ttotal: 5.64s\tremaining: 5.62s\n",
      "999:\tlearn: 2686.9568691\ttotal: 11.8s\tremaining: 0us\n"
     ]
    },
    {
     "data": {
      "text/plain": [
       "<catboost.core.CatBoostRegressor at 0x17c684fa0>"
      ]
     },
     "execution_count": 30,
     "metadata": {},
     "output_type": "execute_result"
    }
   ],
   "source": [
    "# гиперпараметры модели\n",
    "parameters = {'verbose': 500,\n",
    "              'eval_metric': 'RMSE',\n",
    "              'iterations': 1000,\n",
    "              'learning_rate': 0.1,\n",
    "              'random_seed':RANDOM_SEED,\n",
    "              'early_stopping_rounds': 30\n",
    "             }\n",
    "# модель\n",
    "regressor = CatBoostRegressor(**parameters)\n",
    "\n",
    "# обучение модели\n",
    "regressor.fit(train_pool)"
   ]
  },
  {
   "cell_type": "markdown",
   "id": "883ee84c",
   "metadata": {},
   "source": [
    "<div style=\"padding:0px 20px 10px; \n",
    "            color:#004346;\n",
    "            font-size:15px;\n",
    "            display:fill;\n",
    "            text-align:center;\n",
    "            border-radius:20px;\n",
    "            border: 5px double;\n",
    "            border-color:#201E20;\n",
    "            background-color: #E8F1F2;\n",
    "            overflow:hidden;\n",
    "            font-weight:400\"> \n",
    "\n",
    "# Проверка модели на тестовой выборке\n",
    "\n",
    "</div>"
   ]
  },
  {
   "cell_type": "code",
   "execution_count": 34,
   "id": "ce6706e0",
   "metadata": {},
   "outputs": [
    {
     "name": "stdout",
     "output_type": "stream",
     "text": [
      "RMSE на тестовых данных: 2785.03719892253\n"
     ]
    }
   ],
   "source": [
    "# предказание данных\n",
    "predict = regressor.predict(test_pool)\n",
    "rmae = sqrt(mean_squared_error(df_test['price'], predict))\n",
    "# вывод результатов\n",
    "print(f'RMSE на тестовых данных: {rmae}')"
   ]
  },
  {
   "cell_type": "markdown",
   "id": "f7cc1da9",
   "metadata": {},
   "source": [
    "> Минимальное расхождение между ошибками на тестовом и тренировочном наборах данных указывает на отсутствие явного переобучения модели."
   ]
  },
  {
   "cell_type": "markdown",
   "id": "676f3f61",
   "metadata": {},
   "source": [
    "<div style=\"padding:0px 20px 10px; \n",
    "            color:#004346;\n",
    "            font-size:15px;\n",
    "            display:fill;\n",
    "            text-align:center;\n",
    "            border-radius:20px;\n",
    "            border: 5px double;\n",
    "            border-color:#201E20;\n",
    "            background-color: #E8F1F2;\n",
    "            overflow:hidden;\n",
    "            font-weight:400\"> \n",
    "\n",
    "# Вывод\n",
    "    \n",
    "</div>\n",
    "\n",
    "Проект был направлен на практическое применение регулярных выражений для работы с VIN-кодами автомобилей. \n",
    "\n",
    "Регулярные выражения представляют собой мощный инструмент, который мы успешно применили для извлечения необходимой информации из текстовых данных. Это включало в себя составление шаблонов для поиска и извлечения конкретных частей VIN-кода, таких как производитель, модель и год выпуска.\n",
    "\n",
    "Далее мы использовали полученные данные для построения модели, которая предсказывает цену автомобилей на основе их VIN-кодов. Мы применили различные алгоритмы машинного обучения, такие как Ridge регрессия и CatBoostRegressor, чтобы определить стоимость автомобилей марки Ford на основе извлеченных данных.\n",
    "\n",
    "Результаты проекта показали, что применение регулярных выражений для обработки текстовых данных и последующего использования их в моделировании может быть очень эффективным инструментом. Дальнейшие шаги работы включают получение дополнительных данных для расшифровки VIN-кодов, что позволит улучшить точность и надежность модели, а также обогатить набор данных для более полного анализа и прогнозирования цен.\n"
   ]
  }
 ],
 "metadata": {
  "kernelspec": {
   "display_name": "Python 3 (ipykernel)",
   "language": "python",
   "name": "python3"
  },
  "language_info": {
   "codemirror_mode": {
    "name": "ipython",
    "version": 3
   },
   "file_extension": ".py",
   "mimetype": "text/x-python",
   "name": "python",
   "nbconvert_exporter": "python",
   "pygments_lexer": "ipython3",
   "version": "3.10.9"
  },
  "toc": {
   "base_numbering": 1,
   "nav_menu": {},
   "number_sections": true,
   "sideBar": true,
   "skip_h1_title": false,
   "title_cell": "Table of Contents",
   "title_sidebar": "Contents",
   "toc_cell": false,
   "toc_position": {},
   "toc_section_display": true,
   "toc_window_display": false
  }
 },
 "nbformat": 4,
 "nbformat_minor": 5
}
